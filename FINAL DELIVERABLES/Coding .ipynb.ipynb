{
  "cells": [
    {
      "cell_type": "markdown",
      "metadata": {
        "id": "IuSjYM6FJMac"
      },
      "source": [
        "Image augmentation"
      ]
    },
    {
      "cell_type": "code",
      "execution_count": 2,
      "metadata": {
        "colab": {
          "base_uri": "https://localhost:8080/"
        },
        "id": "l1Y2VhfvJTED",
        "outputId": "5c2a16c5-8aa9-4ea4-83b6-73f09f085380"
      },
      "outputs": [
        {
          "output_type": "stream",
          "name": "stdout",
          "text": [
            "Found 742 images belonging to 4 classes.\n"
          ]
        }
      ],
      "source": [
        "from tensorflow.keras.preprocessing.image import ImageDataGenerator\n",
        "train_datagen=ImageDataGenerator(rescale=1./255,shear_range=0.2,zoom_range=0.2,horizontal_flip=True)\n",
        "test_datagen=ImageDataGenerator(rescale=1./255)\n",
        "x_train=train_datagen.flow_from_directory(r\"/content/drive/MyDrive/ibm main project/dataset/train_set\",target_size=(64,64),class_mode='categorical',batch_size=5,color_mode='rgb')"
      ]
    },
    {
      "cell_type": "code",
      "execution_count": 3,
      "metadata": {
        "colab": {
          "base_uri": "https://localhost:8080/"
        },
        "id": "UwPLq8aPMgLT",
        "outputId": "f10dde19-a006-4572-a44a-662522f4e448"
      },
      "outputs": [
        {
          "output_type": "stream",
          "name": "stdout",
          "text": [
            "Found 198 images belonging to 4 classes.\n"
          ]
        }
      ],
      "source": [
        "x_test=test_datagen.flow_from_directory(r\"/content/drive/MyDrive/ibm main project/dataset/test_set\",target_size=(64,64),class_mode='categorical',batch_size=5,color_mode='rgb')"
      ]
    },
    {
      "cell_type": "markdown",
      "metadata": {
        "id": "6JzF8VbQCZMT"
      },
      "source": [
        "IMPORTING THE LIBRARIES"
      ]
    },
    {
      "cell_type": "code",
      "execution_count": 4,
      "metadata": {
        "id": "5vqlz-iWCkEI"
      },
      "outputs": [],
      "source": [
        "import numpy as np\n",
        "import tensorflow as tf\n",
        "from tensorflow.keras.models import Sequential\n",
        "from tensorflow.keras import layers,models\n",
        "from tensorflow.keras.layers import Dense,Flatten\n",
        "from tensorflow.keras.layers import Conv2D,MaxPooling2D\n",
        "from keras.preprocessing.image import ImageDataGenerator\n"
      ]
    },
    {
      "cell_type": "markdown",
      "metadata": {
        "id": "XCl_afFrEx22"
      },
      "source": [
        "Initializing the model"
      ]
    },
    {
      "cell_type": "code",
      "execution_count": 5,
      "metadata": {
        "id": "4eoxPbXfE20n"
      },
      "outputs": [],
      "source": [
        "model=Sequential()"
      ]
    },
    {
      "cell_type": "markdown",
      "metadata": {
        "id": "NmXhQlbZE_MT"
      },
      "source": [
        "Adding CNN layers"
      ]
    },
    {
      "cell_type": "code",
      "execution_count": 6,
      "metadata": {
        "id": "EiyYZ10lFFIU"
      },
      "outputs": [],
      "source": [
        "model.add(Conv2D(32,(3,3),input_shape=(64,64,3),activation='relu'))\n",
        "model.add(MaxPooling2D(pool_size=(2,2)))\n",
        "model.add(Conv2D(32,(3,3),activation='relu'))\n",
        "model.add(MaxPooling2D(pool_size=(2,2)))\n",
        "model.add(Flatten())\n"
      ]
    },
    {
      "cell_type": "markdown",
      "metadata": {
        "id": "5A9TRSqUHgnF"
      },
      "source": [
        "Adding dense layers"
      ]
    },
    {
      "cell_type": "code",
      "execution_count": 7,
      "metadata": {
        "colab": {
          "base_uri": "https://localhost:8080/"
        },
        "id": "V84FmRPbHkjs",
        "outputId": "b5596623-e1a1-47ec-c2df-04481c995683"
      },
      "outputs": [
        {
          "output_type": "stream",
          "name": "stdout",
          "text": [
            "Model: \"sequential\"\n",
            "_________________________________________________________________\n",
            " Layer (type)                Output Shape              Param #   \n",
            "=================================================================\n",
            " conv2d (Conv2D)             (None, 62, 62, 32)        896       \n",
            "                                                                 \n",
            " max_pooling2d (MaxPooling2D  (None, 31, 31, 32)       0         \n",
            " )                                                               \n",
            "                                                                 \n",
            " conv2d_1 (Conv2D)           (None, 29, 29, 32)        9248      \n",
            "                                                                 \n",
            " max_pooling2d_1 (MaxPooling  (None, 14, 14, 32)       0         \n",
            " 2D)                                                             \n",
            "                                                                 \n",
            " flatten (Flatten)           (None, 6272)              0         \n",
            "                                                                 \n",
            " dense (Dense)               (None, 126)               790398    \n",
            "                                                                 \n",
            " dense_1 (Dense)             (None, 4)                 508       \n",
            "                                                                 \n",
            "=================================================================\n",
            "Total params: 801,050\n",
            "Trainable params: 801,050\n",
            "Non-trainable params: 0\n",
            "_________________________________________________________________\n"
          ]
        }
      ],
      "source": [
        "model.add(Dense(units=126,activation='relu'))\n",
        "model.add(Dense(units=4,activation='softmax'))\n",
        "model.summary()"
      ]
    },
    {
      "cell_type": "markdown",
      "metadata": {
        "id": "6WeerRmAIwLX"
      },
      "source": [
        "Configuring the learning process"
      ]
    },
    {
      "cell_type": "code",
      "execution_count": 8,
      "metadata": {
        "id": "qtbSLZ44DlRh"
      },
      "outputs": [],
      "source": [
        "model.compile(loss='categorical_crossentropy',optimizer='adam',metrics=['accuracy'])"
      ]
    },
    {
      "cell_type": "code",
      "execution_count": null,
      "metadata": {
        "colab": {
          "base_uri": "https://localhost:8080/"
        },
        "id": "OiVCYQ2RFT-7",
        "outputId": "d4957d59-07df-43ca-cda8-7968e10aff20"
      },
      "outputs": [
        {
          "output_type": "stream",
          "name": "stderr",
          "text": [
            "/usr/local/lib/python3.7/dist-packages/ipykernel_launcher.py:1: UserWarning: `Model.fit_generator` is deprecated and will be removed in a future version. Please use `Model.fit`, which supports generators.\n",
            "  \"\"\"Entry point for launching an IPython kernel.\n"
          ]
        },
        {
          "output_type": "stream",
          "name": "stdout",
          "text": [
            "Epoch 1/20\n",
            "149/149 [==============================] - 229s 2s/step - loss: 1.1472 - accuracy: 0.4798 - val_loss: 0.9543 - val_accuracy: 0.5859\n",
            "Epoch 2/20\n",
            "149/149 [==============================] - 39s 259ms/step - loss: 0.8025 - accuracy: 0.6604 - val_loss: 0.7919 - val_accuracy: 0.7071\n",
            "Epoch 3/20\n",
            "149/149 [==============================] - 43s 287ms/step - loss: 0.6875 - accuracy: 0.7251 - val_loss: 0.6657 - val_accuracy: 0.7576\n",
            "Epoch 4/20\n",
            "149/149 [==============================] - 43s 288ms/step - loss: 0.6329 - accuracy: 0.7480 - val_loss: 0.7244 - val_accuracy: 0.7929\n",
            "Epoch 5/20\n",
            "149/149 [==============================] - 41s 273ms/step - loss: 0.6337 - accuracy: 0.7642 - val_loss: 1.1256 - val_accuracy: 0.6515\n",
            "Epoch 6/20\n",
            "149/149 [==============================] - 41s 273ms/step - loss: 0.5778 - accuracy: 0.7844 - val_loss: 0.6715 - val_accuracy: 0.7677\n",
            "Epoch 7/20\n",
            "149/149 [==============================] - 39s 264ms/step - loss: 0.4624 - accuracy: 0.8100 - val_loss: 0.7228 - val_accuracy: 0.7677\n",
            "Epoch 8/20\n",
            "149/149 [==============================] - 42s 285ms/step - loss: 0.4899 - accuracy: 0.8113 - val_loss: 0.8699 - val_accuracy: 0.6818\n",
            "Epoch 9/20\n",
            "149/149 [==============================] - 41s 277ms/step - loss: 0.4541 - accuracy: 0.8342 - val_loss: 0.6916 - val_accuracy: 0.7677\n",
            "Epoch 10/20\n",
            "149/149 [==============================] - 40s 268ms/step - loss: 0.3832 - accuracy: 0.8706 - val_loss: 0.9041 - val_accuracy: 0.7222\n",
            "Epoch 11/20\n",
            "149/149 [==============================] - 41s 276ms/step - loss: 0.3888 - accuracy: 0.8585 - val_loss: 0.8835 - val_accuracy: 0.6970\n",
            "Epoch 12/20\n",
            "149/149 [==============================] - 42s 285ms/step - loss: 0.3262 - accuracy: 0.8666 - val_loss: 0.7167 - val_accuracy: 0.7828\n",
            "Epoch 13/20\n",
            "149/149 [==============================] - 41s 276ms/step - loss: 0.3395 - accuracy: 0.8720 - val_loss: 0.7934 - val_accuracy: 0.7677\n",
            "Epoch 14/20\n",
            "149/149 [==============================] - 44s 293ms/step - loss: 0.2993 - accuracy: 0.8868 - val_loss: 0.7931 - val_accuracy: 0.7929\n",
            "Epoch 15/20\n",
            "149/149 [==============================] - 39s 265ms/step - loss: 0.2025 - accuracy: 0.9259 - val_loss: 1.0491 - val_accuracy: 0.7576\n",
            "Epoch 16/20\n",
            "149/149 [==============================] - 45s 301ms/step - loss: 0.3121 - accuracy: 0.8706 - val_loss: 0.9102 - val_accuracy: 0.7222\n",
            "Epoch 17/20\n",
            "149/149 [==============================] - 40s 268ms/step - loss: 0.1821 - accuracy: 0.9340 - val_loss: 1.2355 - val_accuracy: 0.7020\n",
            "Epoch 18/20\n",
            "149/149 [==============================] - 42s 282ms/step - loss: 0.2147 - accuracy: 0.9137 - val_loss: 0.9544 - val_accuracy: 0.7374\n",
            "Epoch 19/20\n",
            "149/149 [==============================] - 48s 319ms/step - loss: 0.2413 - accuracy: 0.9137 - val_loss: 1.0301 - val_accuracy: 0.7626\n",
            "Epoch 20/20\n",
            "149/149 [==============================] - 49s 329ms/step - loss: 0.1728 - accuracy: 0.9394 - val_loss: 0.9844 - val_accuracy: 0.7677\n"
          ]
        },
        {
          "output_type": "execute_result",
          "data": {
            "text/plain": [
              "<keras.callbacks.History at 0x7fe2febf5850>"
            ]
          },
          "metadata": {},
          "execution_count": 9
        }
      ],
      "source": [
        "model.fit_generator(generator=x_train,steps_per_epoch=len(x_train),epochs=20,validation_data=x_test,validation_steps=len(x_test))"
      ]
    },
    {
      "cell_type": "markdown",
      "source": [
        "Save the model"
      ],
      "metadata": {
        "id": "eX6KX_ONA6eN"
      }
    },
    {
      "cell_type": "code",
      "source": [
        "model.save('disaster.h5')"
      ],
      "metadata": {
        "id": "7GJS6Nn_A9YG"
      },
      "execution_count": 9,
      "outputs": []
    },
    {
      "cell_type": "code",
      "source": [
        "model_json=model.to_json() \n",
        "with open(\"model-bw.json\",\"w\")as json_file:\n",
        "  json_file.write(model_json)"
      ],
      "metadata": {
        "id": "qzbkoSVdL8p5"
      },
      "execution_count": 16,
      "outputs": []
    },
    {
      "cell_type": "code",
      "source": [
        "from tensorflow.keras.models import load_model"
      ],
      "metadata": {
        "id": "fTfH2DV5OKlj"
      },
      "execution_count": 12,
      "outputs": []
    },
    {
      "cell_type": "code",
      "source": [
        "from tensorflow. keras.preprocessing import image"
      ],
      "metadata": {
        "id": "v1G13dZKOU5c"
      },
      "execution_count": 23,
      "outputs": []
    },
    {
      "cell_type": "code",
      "source": [
        "model=load_model(\"disaster.h5\")"
      ],
      "metadata": {
        "id": "vgHVPdmjObTq"
      },
      "execution_count": 14,
      "outputs": []
    },
    {
      "cell_type": "code",
      "source": [
        "img=image.load_img(r\"/content/drive/MyDrive/ibm main project/dataset/test_set/Cyclone/871.jpg\",grayscale=False,target_size=(64,64))\n",
        "x=image.img_to_array(img)\n",
        "x=np.expand_dims(x,axis=0)\n",
        "predictions=np.argmax(model.predict(x_test),axis=0)\n",
        "predictions\n"
      ],
      "metadata": {
        "colab": {
          "base_uri": "https://localhost:8080/"
        },
        "id": "kSyT5ASEOjrg",
        "outputId": "b74d1cb3-14a6-4e8e-8b50-b72bec308401"
      },
      "execution_count": 60,
      "outputs": [
        {
          "output_type": "stream",
          "name": "stdout",
          "text": [
            "40/40 [==============================] - 7s 180ms/step\n"
          ]
        },
        {
          "output_type": "execute_result",
          "data": {
            "text/plain": [
              "array([ 41, 167,  19,  49])"
            ]
          },
          "metadata": {},
          "execution_count": 60
        }
      ]
    },
    {
      "cell_type": "code",
      "source": [
        "x_test.class_indices"
      ],
      "metadata": {
        "colab": {
          "base_uri": "https://localhost:8080/"
        },
        "id": "Wx25a2AdliBz",
        "outputId": "feaeedd1-b1bb-455a-f71f-464218541535"
      },
      "execution_count": 56,
      "outputs": [
        {
          "output_type": "execute_result",
          "data": {
            "text/plain": [
              "{'Cyclone': 0, 'Earthquake': 1, 'Flood': 2, 'Wildfire': 3}"
            ]
          },
          "metadata": {},
          "execution_count": 56
        }
      ]
    },
    {
      "cell_type": "code",
      "source": [
        "index=['Cyclone','Earthquake','Flood','Wildfire']\n",
        "result=str(index[0])\n",
        "result"
      ],
      "metadata": {
        "colab": {
          "base_uri": "https://localhost:8080/",
          "height": 35
        },
        "id": "LDfLznhDbtbs",
        "outputId": "fc87b024-13e8-4a83-e17d-85a18a42b209"
      },
      "execution_count": 64,
      "outputs": [
        {
          "output_type": "execute_result",
          "data": {
            "text/plain": [
              "'Cyclone'"
            ],
            "application/vnd.google.colaboratory.intrinsic+json": {
              "type": "string"
            }
          },
          "metadata": {},
          "execution_count": 64
        }
      ]
    }
  ],
  "metadata": {
    "colab": {
      "provenance": []
    },
    "kernelspec": {
      "display_name": "Python 3",
      "name": "python3"
    },
    "language_info": {
      "name": "python"
    }
  },
  "nbformat": 4,
  "nbformat_minor": 0
}